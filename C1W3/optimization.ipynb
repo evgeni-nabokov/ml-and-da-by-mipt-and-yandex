{
 "cells": [
  {
   "cell_type": "code",
   "execution_count": 2,
   "metadata": {},
   "outputs": [
    {
     "name": "stdout",
     "output_type": "stream",
     "text": [
      "1.75 -11.9\n",
      "-11.9\n",
      "-5.0 -11.0\n"
     ]
    },
    {
     "data": {
      "image/png": "[encoded data removed]",
      "text/plain": [
       "<matplotlib.figure.Figure at 0xa2a66a0>"
      ]
     },
     "metadata": {},
     "output_type": "display_data"
    }
   ],
   "source": [
    "%matplotlib inline\n",
    "\n",
    "import numpy as np\n",
    "import scipy.optimize as op\n",
    "import matplotlib.pyplot as pp\n",
    "\n",
    "def write_answer(filename, answer):\n",
    "    with open(filename, \"w\") as fout:\n",
    "        fout.write(str(answer))\n",
    "\n",
    "x_points = np.arange(1, 30, 0.5)\n",
    "\n",
    "# Целевая функция.\n",
    "def f(x):\n",
    "    return np.sin(x / 5.0) * np.exp(x / 10.0) + 5 * np.exp(-x / 2.0)\n",
    "\n",
    "#bounds=((1, 15))\n",
    "f_min2 = op.minimize(f, 2, method=\"BFGS\")\n",
    "f_min30 = op.minimize(f, 30, method=\"BFGS\")\n",
    "answer = str(round(f_min2.fun, 2)) + \" \" + str(round(f_min30.fun, 2))\n",
    "\n",
    "print(answer)\n",
    "write_answer(\"a1.txt\", answer)\n",
    "\n",
    "f_min_de = op.differential_evolution(f, [(1,30)])\n",
    "answer = str(round(f_min_de.fun, 2))\n",
    "print(answer)\n",
    "write_answer(\"a2.txt\", answer)\n",
    "\n",
    "def h(x):\n",
    "    return (f(x)).astype(int)\n",
    "\n",
    "h_min30 = op.minimize(h, 30, method=\"BFGS\")\n",
    "h_min_de = op.differential_evolution(h, [(1,30)])\n",
    "\n",
    "answer = str(round(h_min30.fun, 2)) + \" \" + str(round(h_min_de.fun, 2))\n",
    "print(answer)\n",
    "write_answer(\"a2.txt\", answer)\n",
    "\n",
    "pp.plot(x_points, f(x_points), \"-r\")\n",
    "pp.plot(x_points, h(x_points), \"-b\")\n",
    "pp.show()"
   ]
  },
  {
   "cell_type": "code",
   "execution_count": null,
   "metadata": {
    "collapsed": true
   },
   "outputs": [],
   "source": []
  }
 ],
 "metadata": {
  "kernelspec": {
   "display_name": "Python 3",
   "language": "python",
   "name": "python3"
  },
  "language_info": {
   "codemirror_mode": {
    "name": "ipython",
    "version": 3
   },
   "file_extension": ".py",
   "mimetype": "text/x-python",
   "name": "python",
   "nbconvert_exporter": "python",
   "pygments_lexer": "ipython3",
   "version": "3.7.0"
  }
 },
 "nbformat": 4,
 "nbformat_minor": 1
}
