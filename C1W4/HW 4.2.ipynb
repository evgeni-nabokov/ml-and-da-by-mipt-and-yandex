{
 "cells": [
  {
   "cell_type": "code",
   "execution_count": 1,
   "metadata": {
    "collapsed": false
   },
   "outputs": [
    {
     "name": "stdout",
     "output_type": "stream",
     "text": [
      "131.0\n",
      "175.124696462\n",
      "2220.25530354\n",
      "29.7806484634\n",
      "1287.03194539\n"
     ]
    }
   ],
   "source": [
    "import math\n",
    "\n",
    "Xn = 1197.69\n",
    "D = 116182.2\n",
    "n = 131.0\n",
    "sigma = math.sqrt(D)\n",
    "Cl = Xn - 3 * sigma\n",
    "Cu = Xn + 3 * sigma\n",
    "print n\n",
    "print Cl\n",
    "print Cu\n",
    "\n",
    "sigma_s = sigma / math.sqrt(n)\n",
    "print sigma_s\n",
    "Cu = Xn + 3 * sigma_s\n",
    "print Cu"
   ]
  },
  {
   "cell_type": "code",
   "execution_count": null,
   "metadata": {
    "collapsed": true
   },
   "outputs": [],
   "source": []
  }
 ],
 "metadata": {
  "anaconda-cloud": {},
  "kernelspec": {
   "display_name": "Python [Root]",
   "language": "python",
   "name": "Python [Root]"
  },
  "language_info": {
   "codemirror_mode": {
    "name": "ipython",
    "version": 2
   },
   "file_extension": ".py",
   "mimetype": "text/x-python",
   "name": "python",
   "nbconvert_exporter": "python",
   "pygments_lexer": "ipython2",
   "version": "2.7.12"
  }
 },
 "nbformat": 4,
 "nbformat_minor": 0
}
