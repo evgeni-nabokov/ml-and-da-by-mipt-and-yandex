{
 "cells": [
  {
   "cell_type": "code",
   "execution_count": 26,
   "metadata": {
    "collapsed": false
   },
   "outputs": [
    {
     "name": "stdout",
     "output_type": "stream",
     "text": [
      "[[ 0.2401  0.1862  0.049   0.0147]\n",
      " [ 0.1862  0.1444  0.038   0.0114]\n",
      " [ 0.049   0.038   0.01    0.003 ]\n",
      " [ 0.0147  0.0114  0.003   0.0009]]\n",
      "0.2401\n",
      "0.1862\n",
      "0.049\n",
      "0.0147\n",
      "0.1444\n",
      "0.0114\n",
      "0.6597\n"
     ]
    },
    {
     "data": {
      "text/plain": [
       "0.6597000000000001"
      ]
     },
     "execution_count": 26,
     "metadata": {},
     "output_type": "execute_result"
    }
   ],
   "source": [
    "import numpy as np\n",
    "\n",
    "P1 = 0.49\n",
    "P2 = 0.38\n",
    "P3 = 0.1\n",
    "P4 = 0.03\n",
    "\n",
    "2 * (P1 * P2 + P1 * P3 + P1 * P4 + P2 * P3 + P2 * P4 + P3 * P4) + P1 * P1 + P2 * P2 + P3 * P3 + P4 * P4\n",
    "\n",
    "a = np.array([[P1 * P1, P1 * P2, P1 * P3, P1 * P4],\n",
    "              [P2 * P1, P2 * P2, P2 * P3, P2 * P4],\n",
    "              [P3 * P1, P3 * P2, P3 * P3, P3 * P4],\n",
    "              [P4 * P1, P4 * P2, P4 * P3, P4 * P4]])\n",
    "print a\n",
    "\n",
    "\n",
    "print a[0,0] + a[1,0] + a[2,0] + a[3,0] + a[1,1] + a[3,1] + a[2,2] + a[2,3] + a[3,3]\n",
    "PAB1 = P1 + P2 + P3 + P4\n",
    "PAB2 = P2 + P4\n",
    "PAB3 = P3 + P4\n",
    "PAB4 = P4\n",
    "P1 * PAB1 + P2 * PAB2 + P3 * PAB3 + P4 * PAB4\n",
    "\n"
   ]
  },
  {
   "cell_type": "code",
   "execution_count": null,
   "metadata": {
    "collapsed": true
   },
   "outputs": [],
   "source": []
  }
 ],
 "metadata": {
  "anaconda-cloud": {},
  "kernelspec": {
   "display_name": "Python [Root]",
   "language": "python",
   "name": "Python [Root]"
  },
  "language_info": {
   "codemirror_mode": {
    "name": "ipython",
    "version": 2
   },
   "file_extension": ".py",
   "mimetype": "text/x-python",
   "name": "python",
   "nbconvert_exporter": "python",
   "pygments_lexer": "ipython2",
   "version": "2.7.12"
  }
 },
 "nbformat": 4,
 "nbformat_minor": 0
}
