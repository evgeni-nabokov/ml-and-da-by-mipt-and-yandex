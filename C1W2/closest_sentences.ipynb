{
 "cells": [
  {
   "cell_type": "code",
   "execution_count": 2,
   "metadata": {},
   "outputs": [
    {
     "name": "stdout",
     "output_type": "stream",
     "text": [
      "Строк:  22\n",
      "Уникальных слов:  254\n",
      "Список с цистанциями:  [(6, 0.7327387580875756), (4, 0.77708871496985887), (10, 0.83281653622739416), (12, 0.83964325485254543), (16, 0.84063618542208085), (20, 0.84275727449171223), (2, 0.86447381456421235), (13, 0.87035925528956715), (14, 0.87401184233025764), (11, 0.88047713906656067), (8, 0.88427248752843102), (19, 0.88854435748492944), (3, 0.89517151632780823), (9, 0.90550888174769317), (7, 0.92587506833388988), (5, 0.94023856953328033), (15, 0.94427217874246472), (18, 0.94427217874246472), (1, 0.95275444087384664), (17, 0.95664450152379399)]\n"
     ]
    }
   ],
   "source": [
    "import re\n",
    "import numpy as np\n",
    "import scipy.spatial\n",
    "import operator\n",
    "\n",
    "file_obj = open(\"sentences.txt\")\n",
    "lines = [] # Загруженные и приведённые к нижнему регистру строки.\n",
    "sentences = [] # Список словарей, где каждый словарь хранит количество вхождений каждого слова в предложении.\n",
    "word_index = {} # Слова с порядковыми индексами. \n",
    "\n",
    "# Обработка строк файла.\n",
    "for line in file_obj:\n",
    "    line = line.lower().strip()\n",
    "    lines.append(line)\n",
    "    word_dict = {} # Счётчик вхождений слова в конкретном предложении.\n",
    "    \n",
    "    # Разбор предложения, подсчёт слов.\n",
    "    for word in re.split('[^a-z]', line):\n",
    "        if len(word) == 0:\n",
    "            continue\n",
    "        if not word in word_index:\n",
    "            word_index[word] = len(word_index)\n",
    "        if word in word_dict:\n",
    "            word_dict[word] += 1\n",
    "        else:\n",
    "            word_dict[word] = 1\n",
    "    sentences.append(word_dict)\n",
    "\n",
    "file_obj.close()\n",
    "\n",
    "# Создание и заполнение матрицы вхождений.\n",
    "n = len(lines)\n",
    "d = len(word_index)\n",
    "m = np.zeros(shape=(n,d))\n",
    "for i, sentence in enumerate(sentences):\n",
    "    for word in sentence:\n",
    "        j = word_index[word]\n",
    "        m[i, j] = sentence[word]\n",
    "\n",
    "# Вычисление расстояний.\n",
    "distances = {}\n",
    "first_row = m[0,:]\n",
    "for i in range(1, n - 1):\n",
    "    current_row = m[i,:]\n",
    "    distances[i] = scipy.spatial.distance.cosine(first_row, current_row)\n",
    "\n",
    "sorted_distances = sorted(distances.items(), key=operator.itemgetter(1))\n",
    "print \"Строк: \", n\n",
    "print \"Уникальных слов: \", d\n",
    "print \"Список с цистанциями: \", sorted_distances\n",
    "\n",
    "# Сохранение номеров двух ближайших предложений.\n",
    "file_obj = open(\"a1.txt\", \"w\")\n",
    "file_obj.write(str(sorted_distances[0][0]) + \" \" + str(sorted_distances[1][0]))\n",
    "file_obj.close()"
   ]
  },
  {
   "cell_type": "code",
   "execution_count": null,
   "metadata": {
    "collapsed": true
   },
   "outputs": [],
   "source": []
  }
 ],
 "metadata": {
  "kernelspec": {
   "display_name": "Python 2",
   "language": "python",
   "name": "python2"
  },
  "language_info": {
   "codemirror_mode": {
    "name": "ipython",
    "version": 2
   },
   "file_extension": ".py",
   "mimetype": "text/x-python",
   "name": "python",
   "nbconvert_exporter": "python",
   "pygments_lexer": "ipython2",
   "version": "2.7.14"
  }
 },
 "nbformat": 4,
 "nbformat_minor": 1
}
