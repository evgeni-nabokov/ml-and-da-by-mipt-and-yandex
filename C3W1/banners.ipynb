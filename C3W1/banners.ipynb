{
 "cells": [
  {
   "cell_type": "code",
   "execution_count": 9,
   "metadata": {},
   "outputs": [
    {
     "name": "stdout",
     "output_type": "stream",
     "text": [
      "Done. Total rows written: 396,635\n"
     ]
    }
   ],
   "source": [
    "import csv\n",
    "\n",
    "lat_index = 3\n",
    "lon_index = 4\n",
    "fields_num = 6\n",
    "csv_counter = 0\n",
    "\n",
    "with open(\"checkins.dat\") as dat_file:\n",
    "    with open(\"checkins.csv\", \"w\") as csv_file:\n",
    "        csv_writer = csv.writer(csv_file)\n",
    "        for dat_line in dat_file:\n",
    "            new_line = map(str.strip, dat_line.split('|'))\n",
    "            if len(new_line) == fields_num and new_line[lat_index] and new_line[lon_index]:\n",
    "                csv_writer.writerow(new_line)\n",
    "                csv_counter += 1\n",
    "                \n",
    "print(\"Done. Total rows written: {:,}\".format(csv_counter))"
   ]
  },
  {
   "cell_type": "code",
   "execution_count": null,
   "metadata": {
    "collapsed": true
   },
   "outputs": [],
   "source": []
  }
 ],
 "metadata": {
  "kernelspec": {
   "display_name": "Python 2",
   "language": "python",
   "name": "python2"
  },
  "language_info": {
   "codemirror_mode": {
    "name": "ipython",
    "version": 2
   },
   "file_extension": ".py",
   "mimetype": "text/x-python",
   "name": "python",
   "nbconvert_exporter": "python",
   "pygments_lexer": "ipython2",
   "version": "2.7.14"
  }
 },
 "nbformat": 4,
 "nbformat_minor": 2
}
