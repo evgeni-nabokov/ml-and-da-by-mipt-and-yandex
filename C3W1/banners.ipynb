{
 "cells": [
  {
   "cell_type": "code",
   "execution_count": 35,
   "metadata": {
    "collapsed": true
   },
   "outputs": [],
   "source": [
    "lat_index = 3\n",
    "lon_index = 4\n",
    "\n",
    "offices = {\n",
    "    \"Los Angeles\" : [33.751277, -118.188740],\n",
    "    \"Miami\" : [25.867736, -80.324116],\n",
    "    \"London\" : [51.503016, -0.075479],\n",
    "    \"Amsterdam\" : [52.378894, 4.885084],\n",
    "    \"Beijing\" : [39.366487, 117.036146],\n",
    "    \"Sydney\" : [-33.868457, 151.205134]\n",
    "}"
   ]
  },
  {
   "cell_type": "code",
   "execution_count": 9,
   "metadata": {},
   "outputs": [
    {
     "name": "stdout",
     "output_type": "stream",
     "text": [
      "Done. Total rows written: 396,635\n"
     ]
    }
   ],
   "source": [
    "import csv\n",
    "\n",
    "fields_num = 6\n",
    "csv_counter = 0\n",
    "\n",
    "with open(\"checkins.dat\") as dat_file:\n",
    "    with open(\"checkins.csv\", \"w\") as csv_file:\n",
    "        csv_writer = csv.writer(csv_file)\n",
    "        for dat_line in dat_file:\n",
    "            new_line = map(str.strip, dat_line.split('|'))\n",
    "            if len(new_line) == fields_num and new_line[lat_index] and new_line[lon_index]:\n",
    "                csv_writer.writerow(new_line)\n",
    "                csv_counter += 1\n",
    "                \n",
    "print(\"Done. Total rows written: {:,}\".format(csv_counter))"
   ]
  },
  {
   "cell_type": "code",
   "execution_count": 12,
   "metadata": {
    "collapsed": true
   },
   "outputs": [],
   "source": [
    "import pandas as pd\n",
    "import numpy as np\n",
    "from sklearn.cluster import MeanShift, estimate_bandwidth\n",
    "from functools import reduce"
   ]
  },
  {
   "cell_type": "code",
   "execution_count": 24,
   "metadata": {},
   "outputs": [
    {
     "name": "stdout",
     "output_type": "stream",
     "text": [
      "       id  user_id  venue_id   latitude   longitude           created_at\n",
      "0  984222    15824      5222  38.895112  -77.036366  2012-04-21 17:43:47\n",
      "1  984234    44652      5222  33.800745  -84.410520  2012-04-21 17:43:43\n",
      "2  984291   105054      5222  45.523452 -122.676207  2012-04-21 17:39:22\n",
      "3  984318  2146539      5222  40.764462 -111.904565  2012-04-21 17:35:46\n",
      "4  984232    93870    380645  33.448377 -112.074037  2012-04-21 17:38:18\n"
     ]
    }
   ],
   "source": [
    "checkins = pd.read_csv(\"checkins.csv\", nrows = 100000)\n",
    "print(checkins.head(5))"
   ]
  },
  {
   "cell_type": "code",
   "execution_count": 27,
   "metadata": {},
   "outputs": [
    {
     "data": {
      "text/plain": [
       "MeanShift(bandwidth=0.1, bin_seeding=False, cluster_all=True, min_bin_freq=1,\n",
       "     n_jobs=1, seeds=None)"
      ]
     },
     "execution_count": 27,
     "metadata": {},
     "output_type": "execute_result"
    }
   ],
   "source": [
    "X = checkins.values[:, [lat_index, lon_index]]\n",
    "ms = MeanShift(bandwidth=0.1)\n",
    "ms.fit(X)"
   ]
  },
  {
   "cell_type": "code",
   "execution_count": 39,
   "metadata": {},
   "outputs": [
    {
     "name": "stdout",
     "output_type": "stream",
     "text": [
      "3230\n",
      "number of estimated clusters : 3230\n"
     ]
    }
   ],
   "source": [
    "labels = ms.labels_\n",
    "cluster_centers = ms.cluster_centers_\n",
    "#labels_unique = np.unique(labels)\n",
    "clusters_num = len(cluster_centers)\n",
    "#print(cluster_centers)\n",
    "print(\"number of estimated clusters : %d\" % clusters_num)\n",
    "\n",
    "clusters = {}\n",
    "\n",
    "for label in labels:\n",
    "    clusters = product * num\n"
   ]
  },
  {
   "cell_type": "code",
   "execution_count": 34,
   "metadata": {},
   "outputs": [
    {
     "ename": "IndentationError",
     "evalue": "unexpected indent (<ipython-input-34-560af34c8451>, line 10)",
     "output_type": "error",
     "traceback": [
      "\u001b[1;36m  File \u001b[1;32m\"<ipython-input-34-560af34c8451>\"\u001b[1;36m, line \u001b[1;32m10\u001b[0m\n\u001b[1;33m    ()\u001b[0m\n\u001b[1;37m    ^\u001b[0m\n\u001b[1;31mIndentationError\u001b[0m\u001b[1;31m:\u001b[0m unexpected indent\n"
     ]
    }
   ],
   "source": []
  }
 ],
 "metadata": {
  "kernelspec": {
   "display_name": "Python 2",
   "language": "python",
   "name": "python2"
  },
  "language_info": {
   "codemirror_mode": {
    "name": "ipython",
    "version": 2
   },
   "file_extension": ".py",
   "mimetype": "text/x-python",
   "name": "python",
   "nbconvert_exporter": "python",
   "pygments_lexer": "ipython2",
   "version": "2.7.14"
  }
 },
 "nbformat": 4,
 "nbformat_minor": 2
}
