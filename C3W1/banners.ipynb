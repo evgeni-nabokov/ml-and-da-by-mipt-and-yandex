{
 "cells": [
  {
   "cell_type": "code",
   "execution_count": 65,
   "metadata": {
    "collapsed": true
   },
   "outputs": [],
   "source": [
    "lat_index = 3\n",
    "lon_index = 4\n",
    "\n",
    "offices = {\n",
    "    \"Los Angeles\" : [33.751277, -118.188740],\n",
    "    \"Miami\" : [25.867736, -80.324116],\n",
    "    \"London\" : [51.503016, -0.075479],\n",
    "    \"Amsterdam\" : [52.378894, 4.885084],\n",
    "    \"Beijing\" : [39.366487, 117.036146],\n",
    "    \"Sydney\" : [-33.868457, 151.205134]\n",
    "}\n",
    "\n",
    "def write_answer(filename, answer):\n",
    "    with open(filename, \"w\") as fout:\n",
    "        fout.write(str(answer))"
   ]
  },
  {
   "cell_type": "code",
   "execution_count": 9,
   "metadata": {},
   "outputs": [
    {
     "name": "stdout",
     "output_type": "stream",
     "text": [
      "Done. Total rows written: 396,635\n"
     ]
    }
   ],
   "source": [
    "import csv\n",
    "\n",
    "fields_num = 6\n",
    "csv_counter = 0\n",
    "\n",
    "with open(\"checkins.dat\") as dat_file:\n",
    "    with open(\"checkins.csv\", \"w\") as csv_file:\n",
    "        csv_writer = csv.writer(csv_file)\n",
    "        for dat_line in dat_file:\n",
    "            new_line = map(str.strip, dat_line.split('|'))\n",
    "            if len(new_line) == fields_num and new_line[lat_index] and new_line[lon_index]:\n",
    "                csv_writer.writerow(new_line)\n",
    "                csv_counter += 1\n",
    "                \n",
    "print(\"Done. Total rows written: {:,}\".format(csv_counter))"
   ]
  },
  {
   "cell_type": "code",
   "execution_count": 12,
   "metadata": {
    "collapsed": true
   },
   "outputs": [],
   "source": [
    "import pandas as pd\n",
    "import numpy as np\n",
    "from sklearn.cluster import MeanShift, estimate_bandwidth\n",
    "from functools import reduce"
   ]
  },
  {
   "cell_type": "code",
   "execution_count": 24,
   "metadata": {},
   "outputs": [
    {
     "name": "stdout",
     "output_type": "stream",
     "text": [
      "       id  user_id  venue_id   latitude   longitude           created_at\n",
      "0  984222    15824      5222  38.895112  -77.036366  2012-04-21 17:43:47\n",
      "1  984234    44652      5222  33.800745  -84.410520  2012-04-21 17:43:43\n",
      "2  984291   105054      5222  45.523452 -122.676207  2012-04-21 17:39:22\n",
      "3  984318  2146539      5222  40.764462 -111.904565  2012-04-21 17:35:46\n",
      "4  984232    93870    380645  33.448377 -112.074037  2012-04-21 17:38:18\n"
     ]
    }
   ],
   "source": [
    "checkins = pd.read_csv(\"checkins.csv\", nrows = 100000)\n",
    "print(checkins.head(5))"
   ]
  },
  {
   "cell_type": "code",
   "execution_count": 27,
   "metadata": {},
   "outputs": [
    {
     "data": {
      "text/plain": [
       "MeanShift(bandwidth=0.1, bin_seeding=False, cluster_all=True, min_bin_freq=1,\n",
       "     n_jobs=1, seeds=None)"
      ]
     },
     "execution_count": 27,
     "metadata": {},
     "output_type": "execute_result"
    }
   ],
   "source": [
    "X = checkins.values[:, [lat_index, lon_index]]\n",
    "ms = MeanShift(bandwidth=0.1)\n",
    "ms.fit(X)"
   ]
  },
  {
   "cell_type": "code",
   "execution_count": 74,
   "metadata": {},
   "outputs": [
    {
     "name": "stdout",
     "output_type": "stream",
     "text": [
      "Number of clusters: 3230\n",
      "[(413, 'Sydney', 6.1383435474385181e-05), (373, 'Amsterdam', 8.7484523675144147e-05), (405, 'Miami', 0.00051411327615484234), (58, 'London', 0.0025058328805651507), (51, 'Los Angeles', 0.0050194011900760883)]\n"
     ]
    }
   ],
   "source": [
    "labels = ms.labels_\n",
    "cluster_centers = ms.cluster_centers_\n",
    "#labels_unique = np.unique(labels)\n",
    "clusters_num = len(cluster_centers)\n",
    "#print(cluster_centers)\n",
    "print(\"Number of clusters: %d\" % clusters_num)\n",
    "\n",
    "# Словарь кластеров для хранения элементов, разбитых по кластерам.\n",
    "cluster_dict = {}\n",
    "\n",
    "for i, x in enumerate(X):\n",
    "    label = labels[i]\n",
    "    if label in cluster_dict:\n",
    "        cluster_dict[label].append(x)\n",
    "    else:\n",
    "        cluster_dict[label] = [x]\n",
    "\n",
    "# Список расстояний от каждого цента кластера до каждого офиса.\n",
    "distances = []\n",
    "\n",
    "for label in cluster_dict:\n",
    "    size = len(cluster_dict[label])\n",
    "    # Пропускаем кластер размером меньше 16 элементов \n",
    "    if size < 16: continue\n",
    "    cluster_center = cluster_centers[label]\n",
    "    for city in offices:\n",
    "        office_center = offices[city]\n",
    "        diff = office_center - cluster_center\n",
    "        squared_dist = np.dot(diff, diff)\n",
    "        distances.append((label, city, squared_dist))\n",
    " \n",
    "distances.sort(key=lambda x: x[2])\n",
    "print(distances[:5])\n",
    "closest_cluster_label = distances[0][0]\n",
    "closest_cluster_center = cluster_centers[closest_cluster_label]\n",
    "answer = \"{} {}\".format(closest_cluster_center[0], closest_cluster_center[1])\n",
    "write_answer(\"a1.txt\", answer)"
   ]
  },
  {
   "cell_type": "code",
   "execution_count": null,
   "metadata": {
    "collapsed": true
   },
   "outputs": [],
   "source": []
  }
 ],
 "metadata": {
  "kernelspec": {
   "display_name": "Python 2",
   "language": "python",
   "name": "python2"
  },
  "language_info": {
   "codemirror_mode": {
    "name": "ipython",
    "version": 2
   },
   "file_extension": ".py",
   "mimetype": "text/x-python",
   "name": "python",
   "nbconvert_exporter": "python",
   "pygments_lexer": "ipython2",
   "version": "2.7.14"
  }
 },
 "nbformat": 4,
 "nbformat_minor": 2
}
