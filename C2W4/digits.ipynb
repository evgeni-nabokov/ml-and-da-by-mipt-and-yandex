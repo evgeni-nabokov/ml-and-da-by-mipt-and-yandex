{
 "cells": [
  {
   "cell_type": "code",
   "execution_count": 10,
   "metadata": {},
   "outputs": [
    {
     "name": "stdout",
     "output_type": "stream",
     "text": [
      "Populating the interactive namespace from numpy and matplotlib\n"
     ]
    }
   ],
   "source": [
    "%pylab inline"
   ]
  },
  {
   "cell_type": "code",
   "execution_count": 22,
   "metadata": {
    "collapsed": true
   },
   "outputs": [],
   "source": [
    "from sklearn import datasets, metrics, tree, ensemble\n",
    "from sklearn.model_selection import cross_val_score\n",
    "from sklearn.ensemble import BaggingClassifier, RandomForestClassifier\n",
    "from math import sqrt\n",
    "from matplotlib import pyplot as plt\n",
    "import numpy as np\n",
    "\n",
    "def write_answer(n, a):\n",
    "    with open(\"a%i.txt\" % n, \"w\") as fout:\n",
    "        fout.write(str(a))"
   ]
  },
  {
   "cell_type": "code",
   "execution_count": 12,
   "metadata": {
    "collapsed": true
   },
   "outputs": [],
   "source": [
    "digits = datasets.load_digits()\n",
    "X = digits.data\n",
    "y = digits.target"
   ]
  },
  {
   "cell_type": "code",
   "execution_count": 5,
   "metadata": {},
   "outputs": [
    {
     "name": "stdout",
     "output_type": "stream",
     "text": [
      "0.827515158322\n"
     ]
    }
   ],
   "source": [
    "tree_classifier = tree.DecisionTreeClassifier()\n",
    "scores = cross_val_score(tree_classifier, X, y, cv=10)\n",
    "a1 = scores.mean()\n",
    "print(a1)\n",
    "write_answer(1, a1)"
   ]
  },
  {
   "cell_type": "code",
   "execution_count": 6,
   "metadata": {},
   "outputs": [
    {
     "name": "stdout",
     "output_type": "stream",
     "text": [
      "0.923244961635\n"
     ]
    }
   ],
   "source": [
    "bagging_classifier = BaggingClassifier(tree_classifier, n_estimators=100)\n",
    "scores = cross_val_score(bagging_classifier, X, y, cv=10)\n",
    "a2 = scores.mean()\n",
    "print(a2)\n",
    "write_answer(2, a2)"
   ]
  },
  {
   "cell_type": "code",
   "execution_count": 7,
   "metadata": {},
   "outputs": [
    {
     "name": "stdout",
     "output_type": "stream",
     "text": [
      "d=64\n",
      "0.933301168723\n"
     ]
    }
   ],
   "source": [
    "d = X.shape[1]\n",
    "print(\"d=%i\" %d)\n",
    "bagging_classifier = BaggingClassifier(tree_classifier, n_estimators=100, max_features=\"sqrt\")\n",
    "scores = cross_val_score(bagging_classifier, X, y, cv=10)\n",
    "a3 = scores.mean()\n",
    "print(a3)\n",
    "write_answer(3, a3)"
   ]
  },
  {
   "cell_type": "code",
   "execution_count": 8,
   "metadata": {},
   "outputs": [
    {
     "name": "stdout",
     "output_type": "stream",
     "text": [
      "0.953323885839\n"
     ]
    }
   ],
   "source": [
    "tree_classifier = tree.DecisionTreeClassifier(max_features=mf)\n",
    "bagging_classifier = BaggingClassifier(tree_classifier, n_estimators=100)\n",
    "scores = cross_val_score(bagging_classifier, X, y, cv=10)\n",
    "a4 = scores.mean()\n",
    "print(a4)\n",
    "write_answer(4, a4)"
   ]
  },
  {
   "cell_type": "code",
   "execution_count": 34,
   "metadata": {},
   "outputs": [
    {
     "name": "stdout",
     "output_type": "stream",
     "text": [
      "n_estimators means calculation has started\n",
      "n_estimators=2 calculating...\n",
      "n_estimators=10 calculating...\n",
      "n_estimators=50 calculating...\n",
      "n_estimators=100 calculating...\n",
      "n_estimators means calculation has finished\n",
      "[ 0.74085567  0.92382837  0.94835906  0.95160457]\n"
     ]
    },
    {
     "data": {
      "text/plain": [
       "[<matplotlib.lines.Line2D at 0xde4d8d0>]"
      ]
     },
     "execution_count": 34,
     "metadata": {},
     "output_type": "execute_result"
    },
    {
     "data": {
      "image/png": "[encoded data removed]",
      "text/plain": [
       "<matplotlib.figure.Figure at 0xd8d8a58>"
      ]
     },
     "metadata": {},
     "output_type": "display_data"
    }
   ],
   "source": [
    "n_estimators_set = [2, 10, 50, 100]\n",
    "means = np.array([])\n",
    "print(\"n_estimators means calculation has started\")\n",
    "for n in n_estimators_set:\n",
    "    print(\"n_estimators=%i calculating...\" % n)\n",
    "    means = np.append(means, cross_val_score(RandomForestClassifier(n_estimators=n), X, y, cv=10).mean())\n",
    "print(\"n_estimators means calculation has finished\")    \n",
    "print(means)\n",
    "plt.plot(n_estimators_set, means, label=n_estimators_set)"
   ]
  },
  {
   "cell_type": "code",
   "execution_count": 29,
   "metadata": {},
   "outputs": [
    {
     "name": "stdout",
     "output_type": "stream",
     "text": [
      "max_features_set means calculation has started\n",
      "max_features=2 calculating...\n",
      "max_features=10 calculating...\n",
      "max_features=30 calculating...\n",
      "max_features=64 calculating...\n",
      "max_features_set means calculation has finished\n",
      "[ 0.90055693  0.92157267  0.91099716  0.9043815 ]\n"
     ]
    },
    {
     "data": {
      "text/plain": [
       "[<matplotlib.lines.Line2D at 0xdbd2780>]"
      ]
     },
     "execution_count": 29,
     "metadata": {},
     "output_type": "execute_result"
    },
    {
     "data": {
      "image/png": "[encoded data removed]",
      "text/plain": [
       "<matplotlib.figure.Figure at 0x8e10278>"
      ]
     },
     "metadata": {},
     "output_type": "display_data"
    }
   ],
   "source": [
    "max_features_set = [2, 10, 30, 64]\n",
    "means = np.array([])\n",
    "print(\"max_features_set means calculation has started\")\n",
    "for n in max_features_set:\n",
    "    print(\"max_features=%i calculating...\" % n)\n",
    "    means = np.append(means, cross_val_score(RandomForestClassifier(max_features=n), X, y, cv=10).mean())\n",
    "print(\"max_features_set means calculation has finished\")    \n",
    "print(means)\n",
    "plt.plot(max_features_set, means, label=n_estimators_set)"
   ]
  },
  {
   "cell_type": "code",
   "execution_count": 35,
   "metadata": {},
   "outputs": [
    {
     "name": "stdout",
     "output_type": "stream",
     "text": [
      "max_depth_set means calculation has started\n",
      "max_depth=2 calculating...\n",
      "max_depth=10 calculating...\n",
      "max_depth=20 calculating...\n",
      "max_depth=None calculating...\n",
      "max_depth_set means calculation has finished\n",
      "[ 0.68571919  0.91871738  0.91327329  0.92591386]\n"
     ]
    },
    {
     "data": {
      "text/plain": [
       "[<matplotlib.lines.Line2D at 0xe816d68>]"
      ]
     },
     "execution_count": 35,
     "metadata": {},
     "output_type": "execute_result"
    },
    {
     "data": {
      "image/png": "[encoded data removed]",
      "text/plain": [
       "<matplotlib.figure.Figure at 0xd2bde10>"
      ]
     },
     "metadata": {},
     "output_type": "display_data"
    }
   ],
   "source": [
    "max_depth_set = [2, 10, 20, None]\n",
    "means = np.array([])\n",
    "print(\"max_depth_set means calculation has started\")\n",
    "for n in max_depth_set:\n",
    "    print(\"max_depth=%s calculating...\" % str(n))\n",
    "    means = np.append(means, cross_val_score(RandomForestClassifier(max_depth=n), X, y, cv=10).mean())\n",
    "print(\"max_depth_set means calculation has finished\")    \n",
    "print(means)\n",
    "plt.plot(max_depth_set, means, label=n_estimators_set)"
   ]
  },
  {
   "cell_type": "code",
   "execution_count": 38,
   "metadata": {
    "collapsed": true
   },
   "outputs": [],
   "source": [
    "with open(\"a5.txt\", \"w\") as fout:\n",
    "    fout.write(\"2 3 4 7\")"
   ]
  },
  {
   "cell_type": "code",
   "execution_count": null,
   "metadata": {
    "collapsed": true
   },
   "outputs": [],
   "source": []
  }
 ],
 "metadata": {
  "kernelspec": {
   "display_name": "Python 2",
   "language": "python",
   "name": "python2"
  },
  "language_info": {
   "codemirror_mode": {
    "name": "ipython",
    "version": 2
   },
   "file_extension": ".py",
   "mimetype": "text/x-python",
   "name": "python",
   "nbconvert_exporter": "python",
   "pygments_lexer": "ipython2",
   "version": "2.7.14"
  }
 },
 "nbformat": 4,
 "nbformat_minor": 2
}
