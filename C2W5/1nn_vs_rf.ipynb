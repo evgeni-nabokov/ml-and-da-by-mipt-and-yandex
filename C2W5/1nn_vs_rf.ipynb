{
 "cells": [
  {
   "cell_type": "code",
   "execution_count": 53,
   "metadata": {},
   "outputs": [],
   "source": [
    "import numpy as np\n",
    "from sklearn import ensemble, datasets\n",
    "from sklearn.model_selection import train_test_split"
   ]
  },
  {
   "cell_type": "code",
   "execution_count": 36,
   "metadata": {
    "collapsed": true
   },
   "outputs": [],
   "source": [
    "def write_answer(filename, answer):\n",
    "    with open(filename, \"w\") as fout:\n",
    "        fout.write(str(answer))"
   ]
  },
  {
   "cell_type": "code",
   "execution_count": 54,
   "metadata": {},
   "outputs": [],
   "source": [
    "digits = datasets.load_digits()\n",
    "X = digits.data\n",
    "y = digits.target\n",
    "X_train, X_test, y_train, y_test = train_test_split(X, y, test_size = 0.25, shuffle = False)\n",
    "total_num = X_test.shape[0]"
   ]
  },
  {
   "cell_type": "code",
   "execution_count": 55,
   "metadata": {},
   "outputs": [
    {
     "name": "stdout",
     "output_type": "stream",
     "text": [
      "[1NN] Number of mislabeled points out of a total 450 points: 17 (errors: 0.04)\n"
     ]
    }
   ],
   "source": [
    "y_pred = []\n",
    "\n",
    "for x_test in X_test:\n",
    "    distances = []\n",
    "    i = 0\n",
    "    for x_train in X_train:\n",
    "        diff = x_test - x_train\n",
    "        d = np.dot(diff, diff)\n",
    "        distances.append((d, y_train[i]))\n",
    "        i += 1\n",
    "    distances.sort(key=lambda x: x[0])\n",
    "    y_pred.append(distances[0][1])\n",
    "\n",
    "err_num = (y_test != y_pred).sum()\n",
    "err_share = err_num * 1.0 / total_num\n",
    "print(\"[1NN] Number of mislabeled points out of a total %d points: %d (errors: %0.2f)\" % (total_num, err_num, err_share))\n",
    "write_answer(\"1nn_vs_rs_a1.txt\", err_share)"
   ]
  },
  {
   "cell_type": "code",
   "execution_count": 56,
   "metadata": {},
   "outputs": [
    {
     "name": "stdout",
     "output_type": "stream",
     "text": [
      "[Random forest] Number of mislabeled points out of a total 450 points: 28 (errors: 0.06)\n"
     ]
    }
   ],
   "source": [
    "rf = ensemble.RandomForestClassifier(n_estimators = 1000)\n",
    "trained_rf = rf.fit(X_train, y_train)\n",
    "y_pred = trained_rf.predict(X_test)\n",
    "err_num = (y_test != y_pred).sum()\n",
    "err_share = err_num * 1.0 / total_num\n",
    "print(\"[Random forest] Number of mislabeled points out of a total %d points: %d (errors: %0.2f)\" % (total_num, err_num, err_share))\n",
    "write_answer(\"1nn_vs_rs_a2.txt\", err_share)"
   ]
  },
  {
   "cell_type": "code",
   "execution_count": null,
   "metadata": {
    "collapsed": true
   },
   "outputs": [],
   "source": []
  }
 ],
 "metadata": {
  "kernelspec": {
   "display_name": "Python 2",
   "language": "python",
   "name": "python2"
  },
  "language_info": {
   "codemirror_mode": {
    "name": "ipython",
    "version": 2
   },
   "file_extension": ".py",
   "mimetype": "text/x-python",
   "name": "python",
   "nbconvert_exporter": "python",
   "pygments_lexer": "ipython2",
   "version": "2.7.14"
  }
 },
 "nbformat": 4,
 "nbformat_minor": 2
}
